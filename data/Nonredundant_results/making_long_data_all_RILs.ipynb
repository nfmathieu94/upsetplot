{
 "cells": [
  {
   "cell_type": "code",
   "execution_count": 2,
   "id": "e46ddc76-270a-4547-8b65-cc75a33356f1",
   "metadata": {},
   "outputs": [
    {
     "ename": "NameError",
     "evalue": "name 'mylist' is not defined",
     "output_type": "error",
     "traceback": [
      "\u001b[0;31m---------------------------------------------------------------------------\u001b[0m",
      "\u001b[0;31mNameError\u001b[0m                                 Traceback (most recent call last)",
      "Cell \u001b[0;32mIn[2], line 22\u001b[0m\n\u001b[1;32m     18\u001b[0m myorder \u001b[38;5;241m=\u001b[39m [\u001b[38;5;241m5\u001b[39m, \u001b[38;5;241m3\u001b[39m, \u001b[38;5;241m7\u001b[39m, \u001b[38;5;241m6\u001b[39m, \u001b[38;5;241m1\u001b[39m, \u001b[38;5;241m0\u001b[39m, \u001b[38;5;241m4\u001b[39m, \u001b[38;5;241m2\u001b[39m]\n\u001b[1;32m     19\u001b[0m \u001b[38;5;66;03m#mylist = [li[i] for i in myorder]\u001b[39;00m\n\u001b[1;32m     20\u001b[0m \n\u001b[1;32m     21\u001b[0m \u001b[38;5;66;03m# creating one table from list\u001b[39;00m\n\u001b[0;32m---> 22\u001b[0m df3 \u001b[38;5;241m=\u001b[39m pd\u001b[38;5;241m.\u001b[39mconcat(\u001b[43mmylist\u001b[49m,axis\u001b[38;5;241m=\u001b[39m\u001b[38;5;241m0\u001b[39m)\n\u001b[1;32m     24\u001b[0m df3 \u001b[38;5;241m=\u001b[39m df3\u001b[38;5;241m.\u001b[39mreset_index(drop\u001b[38;5;241m=\u001b[39m\u001b[38;5;28;01mTrue\u001b[39;00m)\n\u001b[1;32m     26\u001b[0m \u001b[38;5;66;03m# Combine chr and start column by '_' to make unique identifier\u001b[39;00m\n",
      "\u001b[0;31mNameError\u001b[0m: name 'mylist' is not defined"
     ]
    }
   ],
   "source": [
    "import pandas as pd\n",
    "import glob \n",
    "import os \n",
    "\n",
    "# reading in data \n",
    "folder_path = '/rhome/nmath020/bigdata/Coding_practice/Relocate2_practice/mcclintock_relocate_results/Nathan_Practice/RIL2/Nonredundant_results/'\n",
    "file_list = glob.glob(folder_path + \"nR158-L2-G2*.bed\")\n",
    "\n",
    "\n",
    "# combining data into one table\n",
    "li = []\n",
    "for file in file_list:\n",
    "    frame = pd.read_table(file, skiprows=[0], names=['chr', 'start', 'end', 'name', 'score', 'strand'])\n",
    "    frame['file'] = os.path.basename(file)\n",
    "    li.append(frame)\n",
    "\n",
    "# changing table order\n",
    "myorder = [5, 3, 7, 6, 1, 0, 4, 2]\n",
    "mylist = [li[i] for i in myorder]\n",
    "\n",
    "# creating one table from list\n",
    "df3 = pd.concat(mylist,axis=0)\n",
    "\n",
    "df3 = df3.reset_index(drop=True)\n",
    "\n",
    "# Combine chr and start column by '_' to make unique identifier\n",
    "\n",
    "df3['RIL_Start'] = df3['chr'].astype(str) +'_'+ df3['start'].astype(str)\n",
    "\n",
    "# removing chr and start\n",
    "\n",
    "df3.drop(['chr', 'start'], inplace=True, axis=1)\n",
    "\n",
    "# changing column order\n",
    "\n",
    "df3 = df3[['RIL_Start','end', 'name', 'score', 'strand', 'file']]\n",
    "\n",
    "display(df3)\n",
    "#df3.to_csv('/rhome/nmath020/bigdata/Coding_practice/Relocate2_practice/mcclintock_relocate_results/Nathan_Practice/Parentals/Nonredundant_results/RIL2_1-8_mPing_data.csv', index=False)\n",
    "\n",
    "\n",
    "\n",
    "\n"
   ]
  },
  {
   "cell_type": "code",
   "execution_count": null,
   "id": "fee29da2-a545-4fb4-8792-280979ee7b73",
   "metadata": {},
   "outputs": [],
   "source": []
  }
 ],
 "metadata": {
  "kernelspec": {
   "display_name": "Python 3 (ipykernel)",
   "language": "python",
   "name": "python3"
  },
  "language_info": {
   "codemirror_mode": {
    "name": "ipython",
    "version": 3
   },
   "file_extension": ".py",
   "mimetype": "text/x-python",
   "name": "python",
   "nbconvert_exporter": "python",
   "pygments_lexer": "ipython3",
   "version": "3.9.7"
  }
 },
 "nbformat": 4,
 "nbformat_minor": 5
}
