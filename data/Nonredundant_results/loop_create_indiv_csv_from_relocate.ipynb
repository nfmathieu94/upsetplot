{
 "cells": [
  {
   "cell_type": "code",
   "execution_count": 90,
   "id": "9c70348b-f782-4806-8f53-3ba031e73fb3",
   "metadata": {},
   "outputs": [],
   "source": [
    "# this code creates individual data frames from relocaTE data and stores them as csv files\n",
    "import pandas as pd\n",
    "import glob\n",
    "import os \n",
    "\n",
    "folder_path = '/rhome/nmath020/bigdata/Coding_practice/Relocate2_practice/mcclintock_relocate_results/Nathan_Practice/RIL2/Nonredundant_results/*_nonredundant.bed'\n",
    "file_list = glob.glob(folder_path + \"nR158*.bed\")\n",
    "#main_dataframe = pd.DataFrame(pd.read_table(file_list[0], skiprows=[0], names=['chr', 'start', 'end', 'name', 'score', 'strand'])) \n",
    "\n",
    "# creating a list of RIL dataframes \n",
    "li = []\n",
    "for file in long_files:\n",
    "    frame = pd.DataFrame(pd.read_table(file, skiprows=[0], names=['chr', 'start', 'end', 'name', 'score', 'strand']))\n",
    "    frame['file'] = os.path.basename(file)\n",
    "    li.append(frame)\n",
    "\n",
    "# creating individual dataframes    \n",
    "df_dic = {}\n",
    "\n",
    "RIL2_1_df = pd.DataFrame(li[5])\n",
    "RIL2_3_df = pd.DataFrame(li[7])\n",
    "RIL2_5_df = pd.DataFrame(li[1])\n",
    "RIL2_6_df = pd.DataFrame(li[0])\n",
    "RIL2_8_df = pd.DataFrame(li[2])\n",
    "RIL2_2_df = pd.DataFrame(li[3])\n",
    "RIL2_7_df = pd.DataFrame(li[4])\n",
    "RIL2_4_df = pd.DataFrame(li[6])\n",
    "\n",
    "# Making dictionary with individual DFs\n",
    "df_dic = {\n",
    "    'RIL2_1':RIL2_1_df,\n",
    "    'RIL2_2':RIL2_2_df,\n",
    "    'RIL2_3':RIL2_3_df, 'RIL2_4_df':RIL2_4_df,\n",
    "    'RIL2_5':RIL2_5_df, 'RIL2_6_df':RIL2_6_df,\n",
    "    'RIL2_7':RIL2_7_df, 'RIL2_8_df':RIL2_8_df\n",
    "}\n",
    "\n",
    "# Creating csv that has dataframes and key as file name\n",
    "os.chdir('/rhome/nmath020/bigdata/Coding_practice/Relocate2_practice/mcclintock_relocate_results/Nathan_Practice/Joining_DFs/')\n",
    "for i in df_dic: \n",
    "   RIL.to_csv(str(i)+'_mPing.csv', index=False)"
   ]
  },
  {
   "cell_type": "code",
   "execution_count": 88,
   "id": "eaea2b42-b726-47dd-a395-1f14fbf62512",
   "metadata": {},
   "outputs": [],
   "source": []
  },
  {
   "cell_type": "code",
   "execution_count": null,
   "id": "61a26750-f325-46c5-aa5d-66057859b721",
   "metadata": {},
   "outputs": [],
   "source": []
  }
 ],
 "metadata": {
  "kernelspec": {
   "display_name": "Python 3 (ipykernel)",
   "language": "python",
   "name": "python3"
  },
  "language_info": {
   "codemirror_mode": {
    "name": "ipython",
    "version": 3
   },
   "file_extension": ".py",
   "mimetype": "text/x-python",
   "name": "python",
   "nbconvert_exporter": "python",
   "pygments_lexer": "ipython3",
   "version": "3.9.7"
  }
 },
 "nbformat": 4,
 "nbformat_minor": 5
}
